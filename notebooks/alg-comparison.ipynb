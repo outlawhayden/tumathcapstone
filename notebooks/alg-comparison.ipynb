{
 "cells": [
  {
   "cell_type": "code",
   "execution_count": null,
   "id": "987df269-767b-419e-858a-71a794e0226b",
   "metadata": {},
   "outputs": [],
   "source": [
    "# imports"
   ]
  },
  {
   "cell_type": "markdown",
   "id": "c52e03cf-5d09-4b1e-b381-426d933398a1",
   "metadata": {},
   "source": [
    "# Comparing Functions"
   ]
  },
  {
   "cell_type": "markdown",
   "id": "8f39a426-1657-4992-a6c0-bf7d03c6a130",
   "metadata": {},
   "source": [
    "## Basic Decision Tree"
   ]
  },
  {
   "cell_type": "markdown",
   "id": "e003693d-936a-4670-8674-66967eb4be82",
   "metadata": {},
   "source": [
    "## DT"
   ]
  },
  {
   "cell_type": "markdown",
   "id": "c048bb49-4632-42fc-a675-de7359177108",
   "metadata": {},
   "source": [
    "## DART"
   ]
  },
  {
   "cell_type": "markdown",
   "id": "e382b067-cd8a-4a40-825d-8b197135c1e8",
   "metadata": {},
   "source": [
    "## Deep Forest"
   ]
  },
  {
   "cell_type": "markdown",
   "id": "d2da528d-6c5a-44a7-b5c9-df4551194d46",
   "metadata": {},
   "source": [
    "## ADABoost"
   ]
  },
  {
   "cell_type": "markdown",
   "id": "be4af399-2a76-4b6e-a7ef-576bb5bbbbbf",
   "metadata": {},
   "source": [
    "## XGBoost"
   ]
  },
  {
   "cell_type": "markdown",
   "id": "f0f589ad-0d82-4ed0-bde9-dce4db8fdb63",
   "metadata": {},
   "source": [
    "## DT w/ Genetic Programming"
   ]
  },
  {
   "cell_type": "markdown",
   "id": "552647cf-fdc8-4f12-bab4-35708c0c712b",
   "metadata": {},
   "source": [
    "## Random Forest"
   ]
  },
  {
   "cell_type": "code",
   "execution_count": null,
   "id": "5c2c5678-ae7e-4b5f-a3ce-87f46a9d15fd",
   "metadata": {},
   "outputs": [],
   "source": []
  }
 ],
 "metadata": {
  "kernelspec": {
   "display_name": "Python 3 (ipykernel)",
   "language": "python",
   "name": "python3"
  },
  "language_info": {
   "codemirror_mode": {
    "name": "ipython",
    "version": 3
   },
   "file_extension": ".py",
   "mimetype": "text/x-python",
   "name": "python",
   "nbconvert_exporter": "python",
   "pygments_lexer": "ipython3",
   "version": "3.11.6"
  }
 },
 "nbformat": 4,
 "nbformat_minor": 5
}
