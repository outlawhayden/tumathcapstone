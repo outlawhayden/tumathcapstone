{
 "cells": [
  {
   "cell_type": "code",
   "execution_count": 1,
   "id": "ce64ee9b-32f0-4ea2-9989-63202a509748",
   "metadata": {},
   "outputs": [],
   "source": [
    "import pandas as pd\n",
    "import numpy as np"
   ]
  },
  {
   "cell_type": "code",
   "execution_count": 12,
   "id": "547f6d4a-9826-43e4-88fe-9b72112a13d3",
   "metadata": {
    "tags": []
   },
   "outputs": [],
   "source": [
    "# x between -1 and 1\n",
    "# y = x^2 + |x| + σ, where σ is N(0, 0.01)\n",
    "# training data, 20 data points from interval, 400 points as testing data\n",
    "# rerun algorithms 10 times with different seeds, track mean values and CIs of predicted results"
   ]
  },
  {
   "cell_type": "code",
   "execution_count": 13,
   "id": "fcfe61e3-1823-4fc4-9aed-683c600541fb",
   "metadata": {
    "tags": []
   },
   "outputs": [
    {
     "data": {
      "text/plain": [
       "array([ 0.0062412 ,  0.00628346, -0.00012247, -0.00897254,  0.00075805,\n",
       "       -0.00677162,  0.0097512 , -0.00147057, -0.00825497, -0.00321386,\n",
       "        0.00412931, -0.00563725, -0.0082222 ,  0.00243687,  0.00244967,\n",
       "       -0.00506943, -0.00471038,  0.0023205 , -0.01448084, -0.01407464])"
      ]
     },
     "execution_count": 13,
     "metadata": {},
     "output_type": "execute_result"
    }
   ],
   "source": [
    "error_samples"
   ]
  },
  {
   "cell_type": "code",
   "execution_count": 26,
   "id": "832b4bca-dfa7-40ee-92c4-923a8720c17c",
   "metadata": {
    "tags": []
   },
   "outputs": [],
   "source": [
    "# x between -1 and 1\n",
    "# y = x^2 + |x| + σ, where σ is N(0, 0.01)\n",
    "# training data, 20 data points from interval, 400 points as testing data\n",
    "# rerun algorithms 10 times with different seeds, track mean values and CIs of predicted results\n",
    "\n",
    "def generate_data(x_lower, x_upper, mean, std, n, seed = 0):\n",
    "    np.random.seed(seed)\n",
    "    x_vals = np.random.uniform(x_lower, x_upper, n)\n",
    "    error_vals = np.random.normal(mean, std, n)\n",
    "    data =  [(x, x**2 + x + n) for (x, n) in zip(x_vals, error_vals)]\n",
    "    return(data)"
   ]
  },
  {
   "cell_type": "code",
   "execution_count": 27,
   "id": "f8708744-c931-4f00-81e2-145238238bd7",
   "metadata": {
    "tags": []
   },
   "outputs": [],
   "source": [
    "training_data = generate_data(-1, 1, 0, 0.01, 20, 0)\n",
    "testing_data = generate_data(-1, 1, 0, 0.01, 20, 1)"
   ]
  },
  {
   "cell_type": "code",
   "execution_count": null,
   "id": "a6c388e1-8468-487b-8a9d-b0e2b0ccbcbd",
   "metadata": {},
   "outputs": [],
   "source": []
  }
 ],
 "metadata": {
  "kernelspec": {
   "display_name": "Python 3 (ipykernel)",
   "language": "python",
   "name": "python3"
  },
  "language_info": {
   "codemirror_mode": {
    "name": "ipython",
    "version": 3
   },
   "file_extension": ".py",
   "mimetype": "text/x-python",
   "name": "python",
   "nbconvert_exporter": "python",
   "pygments_lexer": "ipython3",
   "version": "3.11.6"
  }
 },
 "nbformat": 4,
 "nbformat_minor": 5
}
